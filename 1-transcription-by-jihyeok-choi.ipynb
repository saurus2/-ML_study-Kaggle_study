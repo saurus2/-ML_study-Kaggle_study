{
 "cells": [
  {
   "cell_type": "code",
   "execution_count": 1,
   "id": "e07968dc",
   "metadata": {
    "_cell_guid": "b1076dfc-b9ad-4769-8c92-a6c4dae69d19",
    "_uuid": "8f2839f25d086af736a60e9eeb907d3b93b6e0e5",
    "execution": {
     "iopub.execute_input": "2022-10-19T18:45:41.051537Z",
     "iopub.status.busy": "2022-10-19T18:45:41.050558Z",
     "iopub.status.idle": "2022-10-19T18:45:41.064294Z",
     "shell.execute_reply": "2022-10-19T18:45:41.063407Z"
    },
    "papermill": {
     "duration": 0.019504,
     "end_time": "2022-10-19T18:45:41.066351",
     "exception": false,
     "start_time": "2022-10-19T18:45:41.046847",
     "status": "completed"
    },
    "tags": []
   },
   "outputs": [
    {
     "name": "stdout",
     "output_type": "stream",
     "text": [
      "/kaggle/input/titanic/train.csv\n",
      "/kaggle/input/titanic/test.csv\n",
      "/kaggle/input/titanic/gender_submission.csv\n"
     ]
    }
   ],
   "source": [
    "# This Python 3 environment comes with many helpful analytics libraries installed\n",
    "# It is defined by the kaggle/python Docker image: https://github.com/kaggle/docker-python\n",
    "# For example, here's several helpful packages to load\n",
    "\n",
    "import numpy as np # linear algebra\n",
    "import pandas as pd # data processing, CSV file I/O (e.g. pd.read_csv)\n",
    "\n",
    "# Input data files are available in the read-only \"../input/\" directory\n",
    "# For example, running this (by clicking run or pressing Shift+Enter) will list all files under the input directory\n",
    "\n",
    "import os\n",
    "for dirname, _, filenames in os.walk('/kaggle/input'):\n",
    "    for filename in filenames:\n",
    "        print(os.path.join(dirname, filename))\n",
    "\n",
    "# You can write up to 20GB to the current directory (/kaggle/working/) that gets preserved as output when you create a version using \"Save & Run All\" \n",
    "# You can also write temporary files to /kaggle/temp/, but they won't be saved outside of the current session"
   ]
  },
  {
   "cell_type": "code",
   "execution_count": 2,
   "id": "b0d7c9e9",
   "metadata": {
    "execution": {
     "iopub.execute_input": "2022-10-19T18:45:41.071667Z",
     "iopub.status.busy": "2022-10-19T18:45:41.070666Z",
     "iopub.status.idle": "2022-10-19T18:45:41.075243Z",
     "shell.execute_reply": "2022-10-19T18:45:41.074293Z"
    },
    "papermill": {
     "duration": 0.009224,
     "end_time": "2022-10-19T18:45:41.077406",
     "exception": false,
     "start_time": "2022-10-19T18:45:41.068182",
     "status": "completed"
    },
    "tags": []
   },
   "outputs": [],
   "source": [
    "# first stap"
   ]
  },
  {
   "cell_type": "code",
   "execution_count": null,
   "id": "aa48a139",
   "metadata": {
    "papermill": {
     "duration": 0.001364,
     "end_time": "2022-10-19T18:45:41.080513",
     "exception": false,
     "start_time": "2022-10-19T18:45:41.079149",
     "status": "completed"
    },
    "tags": []
   },
   "outputs": [],
   "source": []
  }
 ],
 "metadata": {
  "kernelspec": {
   "display_name": "Python 3",
   "language": "python",
   "name": "python3"
  },
  "language_info": {
   "codemirror_mode": {
    "name": "ipython",
    "version": 3
   },
   "file_extension": ".py",
   "mimetype": "text/x-python",
   "name": "python",
   "nbconvert_exporter": "python",
   "pygments_lexer": "ipython3",
   "version": "3.7.12"
  },
  "papermill": {
   "default_parameters": {},
   "duration": 8.266734,
   "end_time": "2022-10-19T18:45:41.701314",
   "environment_variables": {},
   "exception": null,
   "input_path": "__notebook__.ipynb",
   "output_path": "__notebook__.ipynb",
   "parameters": {},
   "start_time": "2022-10-19T18:45:33.434580",
   "version": "2.3.4"
  }
 },
 "nbformat": 4,
 "nbformat_minor": 5
}
